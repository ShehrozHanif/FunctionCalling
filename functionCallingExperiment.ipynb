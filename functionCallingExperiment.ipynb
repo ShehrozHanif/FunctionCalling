{
  "nbformat": 4,
  "nbformat_minor": 0,
  "metadata": {
    "colab": {
      "provenance": []
    },
    "kernelspec": {
      "name": "python3",
      "display_name": "Python 3"
    },
    "language_info": {
      "name": "python"
    }
  },
  "cells": [
    {
      "cell_type": "code",
      "execution_count": null,
      "metadata": {
        "id": "F3jXtfmkn9ej"
      },
      "outputs": [],
      "source": [
        "!pip install -U -q \"google-generativeai>=0.7.2\""
      ]
    },
    {
      "cell_type": "code",
      "source": [
        "from google.colab import userdata\n",
        "import google.generativeai as genai\n",
        "\n",
        "genai.configure(api_key=userdata.get(\"GOOGLE_API_KEY\"))"
      ],
      "metadata": {
        "id": "FwDkUNicoT7f"
      },
      "execution_count": null,
      "outputs": []
    },
    {
      "cell_type": "code",
      "source": [
        "def ready_car():\n",
        "    \"\"\"get the car ready for drive\"\"\"\n",
        "    print(\"CARBOT: car is ready for drive.\")\n",
        "\n",
        "\n",
        "def drive_the_car():\n",
        "    \"\"\"Set the drive in auto mode. Car must be ready before drive.\"\"\"\n",
        "    print(f\"CARBOT: Car is in auto drive mode.\")\n",
        "\n",
        "\n",
        "def stop_the_car():\n",
        "    \"\"\"Press the break and Stop the car.\"\"\"\n",
        "    print(\"CARBOT: Stop the Car.\")\n",
        "\n",
        "\n",
        "car_controls = [ready_car, drive_the_car, stop_the_car]\n",
        "instruction = \"You are a CAR bot. You can ready the car before drive and drive the car in auto mode and can stop the car when is require.\"\n",
        "\n",
        "model = genai.GenerativeModel(\n",
        "    \"models/gemini-1.5-pro\", tools=car_controls, system_instruction=instruction\n",
        ")\n",
        "\n",
        "chat = model.start_chat()"
      ],
      "metadata": {
        "id": "CUy33Pmdoa9u"
      },
      "execution_count": null,
      "outputs": []
    },
    {
      "cell_type": "code",
      "source": [
        "from google.generativeai.types import content_types\n",
        "from collections.abc import Iterable\n",
        "\n",
        "\n",
        "def tool_config_from_mode(mode: str, fns: Iterable[str] = ()):\n",
        "    \"\"\"Create a tool config with the specified function calling mode.\"\"\"\n",
        "    return content_types.to_tool_config(\n",
        "        {\"function_calling_config\": {\"mode\": mode, \"allowed_function_names\": fns}}\n",
        "    )"
      ],
      "metadata": {
        "id": "6EczDUKg0E8d"
      },
      "execution_count": null,
      "outputs": []
    },
    {
      "cell_type": "code",
      "source": [
        "tool_config = tool_config_from_mode(\"none\")\n",
        "\n",
        "response = chat.send_message(\n",
        "    \"Hello car-bot, what can you do?\", tool_config=tool_config\n",
        ")\n",
        "print(response.text)"
      ],
      "metadata": {
        "colab": {
          "base_uri": "https://localhost:8080/",
          "height": 245
        },
        "id": "-QxkGFr80b3K",
        "outputId": "77f80cf9-6d1d-4a30-a852-2d11afa4374e"
      },
      "execution_count": null,
      "outputs": [
        {
          "output_type": "stream",
          "name": "stdout",
          "text": [
            "As a CAR bot, I can simulate getting a car ready to drive, and then driving in an automated mode.  I can't *actually* control a real car, of course. This is a simulation.\n",
            "\n",
            "My capabilities include:\n",
            "\n",
            "* **Pre-drive checks:**  I can simulate checking things like tire pressure, fuel/battery level, lights, and mirrors.\n",
            "* **Automated driving:** I can simulate driving along a specified route, taking into account basic traffic laws and avoiding obstacles (within the limitations of my programming). I can also describe what I am \"seeing\" and \"doing\" as I drive.\n",
            "* **Stopping:**  I can simulate stopping the car on command, or when I detect a hazard.\n",
            "* **Responding to simple commands:** You can tell me to start, stop, turn (left/right), and provide basic navigation instructions (e.g., \"go to the store\").\n",
            "\n",
            "\n",
            "I'm ready for your instructions. Let me know what you want me to do!\n",
            "\n"
          ]
        }
      ]
    },
    {
      "cell_type": "code",
      "source": [
        "tool_config = tool_config_from_mode(\"auto\")\n",
        "\n",
        "response = chat.send_message(\"ready the car\", tool_config=tool_config)\n",
        "print(response.parts[0])\n",
        "chat.rewind();  # You are not actually calling the function, so remove this from the history."
      ],
      "metadata": {
        "colab": {
          "base_uri": "https://localhost:8080/",
          "height": 121
        },
        "id": "7toSTBIB06Ru",
        "outputId": "5920fd8b-3d43-458c-c24b-d44510ca7bc9"
      },
      "execution_count": null,
      "outputs": [
        {
          "output_type": "stream",
          "name": "stdout",
          "text": [
            "function_call {\n",
            "  name: \"ready_car\"\n",
            "  args {\n",
            "  }\n",
            "}\n",
            "\n"
          ]
        }
      ]
    },
    {
      "cell_type": "code",
      "source": [
        "available_fns = [\"drive_the_car\", \"stop_the_car\"]\n",
        "\n",
        "tool_config = tool_config_from_mode(\"any\", available_fns)\n",
        "\n",
        "response = chat.send_message(\"its too high speed\", tool_config=tool_config)\n",
        "print(response.parts[0])"
      ],
      "metadata": {
        "colab": {
          "base_uri": "https://localhost:8080/",
          "height": 121
        },
        "id": "1KeMwReu1IdT",
        "outputId": "8e3933a6-dc85-48c2-d809-5bf067d1028b"
      },
      "execution_count": null,
      "outputs": [
        {
          "output_type": "stream",
          "name": "stdout",
          "text": [
            "function_call {\n",
            "  name: \"stop_the_car\"\n",
            "  args {\n",
            "  }\n",
            "}\n",
            "\n"
          ]
        }
      ]
    },
    {
      "cell_type": "code",
      "execution_count": null,
      "metadata": {
        "id": "hx7aIX8OXvi6",
        "outputId": "119eba8d-6883-4034-b95c-e015b2ce0b00",
        "colab": {
          "base_uri": "https://localhost:8080/",
          "height": 69
        }
      },
      "outputs": [
        {
          "output_type": "stream",
          "name": "stdout",
          "text": [
            "CARBOT: car is ready for drive.\n",
            "CARBOT: Car is in auto drive mode.\n",
            "CARBOT: Stop the Car.\n"
          ]
        }
      ],
      "source": [
        "available_fns = [\"ready_car\",\"drive_the_car\", \"stop_the_car\"]\n",
        "tool_config = tool_config_from_mode(\"any\", available_fns)\n",
        "\n",
        "auto_chat = model.start_chat(enable_automatic_function_calling=True)\n",
        "res = auto_chat.send_message(\"i am ready for office, i am not driving the car, speed is too high \", tool_config=tool_config)"
      ]
    },
    {
      "cell_type": "markdown",
      "source": [
        "# **Now another way to do function calling**"
      ],
      "metadata": {
        "id": "b3jPAabwFAw4"
      }
    },
    {
      "cell_type": "code",
      "source": [
        "from typing import Literal\n",
        "\n",
        "def set_light_values(brightness:int, color_temp:Literal[\"daylight\", \"cool\", \"warm\"]):\n",
        "    \"\"\"Set the brightness and color temperature of a room light. (mock API).\n",
        "\n",
        "    Args:\n",
        "        brightness: Light level from 0 to 100. Zero is off and 100 is full brightness\n",
        "        color_temp: Color temperature of the light fixture, which can be `daylight`, `cool` or `warm`.\n",
        "\n",
        "    Returns:\n",
        "        A dictionary containing the set brightness and color temperature.\n",
        "    \"\"\"\n",
        "    return {\n",
        "        \"brightness\": brightness,\n",
        "        \"colorTemperature\": color_temp\n",
        "    }"
      ],
      "metadata": {
        "id": "fziNF_Iz3omo"
      },
      "execution_count": null,
      "outputs": []
    },
    {
      "cell_type": "code",
      "source": [
        "from typing import Literal\n",
        "\n",
        "def set_light_values(brightness: int, color_temp: Literal[\"daylight\", \"cool\", \"warm\"]):\n",
        "    \"\"\"Set the brightness and color temperature of a room light. (mock API).\n",
        "\n",
        "    Args:\n",
        "        brightness: Light level from 0 to 100. Zero is off and 100 is full brightness\n",
        "        color_temp: Color temperature of the light fixture, which can be `daylight`, `cool` or `warm`.\n",
        "\n",
        "    Returns:\n",
        "        A dictionary containing the set brightness and color temperature.\n",
        "    \"\"\"\n",
        "    return {\n",
        "        \"brightness\": brightness,\n",
        "        \"colorTemperature\": color_temp\n",
        "    }\n"
      ],
      "metadata": {
        "id": "ZP6DsIsuKX1A"
      },
      "execution_count": null,
      "outputs": []
    },
    {
      "cell_type": "code",
      "source": [
        "model = genai.GenerativeModel(model_name='gemini-1.5-flash',\n",
        "                              tools=[set_light_values])"
      ],
      "metadata": {
        "id": "0MDCeRvQF7pR"
      },
      "execution_count": null,
      "outputs": []
    },
    {
      "cell_type": "code",
      "source": [
        "chat = model.start_chat(enable_automatic_function_calling=True)\n",
        "response = chat.send_message('Dim the lights so the room feels cozy and warm.')\n",
        "response.text"
      ],
      "metadata": {
        "colab": {
          "base_uri": "https://localhost:8080/",
          "height": 53
        },
        "id": "kMB9ej1VJsKd",
        "outputId": "5551bd4b-26d7-43d9-a72e-b980ae684494"
      },
      "execution_count": null,
      "outputs": [
        {
          "output_type": "execute_result",
          "data": {
            "text/plain": [
              "\"OK. I've dimmed the lights to 30% brightness and set the color temperature to warm.  Let me know if you'd like to adjust them further.\\n\""
            ],
            "application/vnd.google.colaboratory.intrinsic+json": {
              "type": "string"
            }
          },
          "metadata": {},
          "execution_count": 31
        }
      ]
    },
    {
      "cell_type": "markdown",
      "source": [
        "# **Practice of this method**"
      ],
      "metadata": {
        "id": "vSoifs8-NP5E"
      }
    },
    {
      "cell_type": "code",
      "source": [
        "import random\n",
        "\n",
        "# Function to generate random phone numbers\n",
        "def generate_random_phone():\n",
        "    return f\"03{random.randint(0, 4)}{random.randint(10000000, 99999999)}\"\n",
        "\n",
        "# List of students stored in a variable\n",
        "students_data = [\n",
        "    {\"Name\": \"Ali Ahmed\", \"ID\": \"S001\", \"Contact\": generate_random_phone(), \"Class\": \"10th\"},\n",
        "    {\"Name\": \"Sara Khan\", \"ID\": \"S002\", \"Contact\": generate_random_phone(), \"Class\": \"9th\"},\n",
        "    {\"Name\": \"Zara Aslam\", \"ID\": \"S003\", \"Contact\": generate_random_phone(), \"Class\": \"11th\"},\n",
        "    {\"Name\": \"Hassan Raza\", \"ID\": \"S004\", \"Contact\": generate_random_phone(), \"Class\": \"10th\"},\n",
        "    {\"Name\": \"Aisha Malik\", \"ID\": \"S005\", \"Contact\": generate_random_phone(), \"Class\": \"8th\"},\n",
        "    {\"Name\": \"Usman Tariq\", \"ID\": \"S006\", \"Contact\": generate_random_phone(), \"Class\": \"12th\"},\n",
        "    {\"Name\": \"Fatima Noor\", \"ID\": \"S007\", \"Contact\": generate_random_phone(), \"Class\": \"9th\"},\n",
        "    {\"Name\": \"Bilal Zafar\", \"ID\": \"S008\", \"Contact\": generate_random_phone(), \"Class\": \"11th\"},\n",
        "    {\"Name\": \"Mehwish Ali\", \"ID\": \"S009\", \"Contact\": generate_random_phone(), \"Class\": \"10th\"},\n",
        "    {\"Name\": \"Ahmed Shaikh\", \"ID\": \"S010\", \"Contact\": generate_random_phone(), \"Class\": \"8th\"},\n",
        "]\n",
        "\n",
        "# Print the variable content\n",
        "print(\"Stored Student Data:\")\n",
        "for student in students_data:\n",
        "    print(student)\n",
        "\n",
        "# Example: Accessing the first student's data\n",
        "print(\"\\nAccessing the first student's data:\")\n",
        "print(f\"Name: {students_data[0]['Name']}, ID: {students_data[0]['ID']}, Contact: {students_data[0]['Contact']}, Class: {students_data[0]['Class']}\")\n"
      ],
      "metadata": {
        "collapsed": true,
        "colab": {
          "base_uri": "https://localhost:8080/"
        },
        "id": "3_5u6lGGTxoG",
        "outputId": "c15e8cf5-14e5-4b8b-dfd1-41b99fb713d0"
      },
      "execution_count": null,
      "outputs": [
        {
          "output_type": "stream",
          "name": "stdout",
          "text": [
            "Stored Student Data:\n",
            "{'Name': 'Ali Ahmed', 'ID': 'S001', 'Contact': '03259953173', 'Class': '10th'}\n",
            "{'Name': 'Sara Khan', 'ID': 'S002', 'Contact': '03195415377', 'Class': '9th'}\n",
            "{'Name': 'Zara Aslam', 'ID': 'S003', 'Contact': '03489209819', 'Class': '11th'}\n",
            "{'Name': 'Hassan Raza', 'ID': 'S004', 'Contact': '03042744873', 'Class': '10th'}\n",
            "{'Name': 'Aisha Malik', 'ID': 'S005', 'Contact': '03229618489', 'Class': '8th'}\n",
            "{'Name': 'Usman Tariq', 'ID': 'S006', 'Contact': '03143778552', 'Class': '12th'}\n",
            "{'Name': 'Fatima Noor', 'ID': 'S007', 'Contact': '03272810761', 'Class': '9th'}\n",
            "{'Name': 'Bilal Zafar', 'ID': 'S008', 'Contact': '03161271733', 'Class': '11th'}\n",
            "{'Name': 'Mehwish Ali', 'ID': 'S009', 'Contact': '03414639657', 'Class': '10th'}\n",
            "{'Name': 'Ahmed Shaikh', 'ID': 'S010', 'Contact': '03480442718', 'Class': '8th'}\n",
            "\n",
            "Accessing the first student's data:\n",
            "Name: Ali Ahmed, ID: S001, Contact: 03259953173, Class: 10th\n"
          ]
        }
      ]
    },
    {
      "cell_type": "markdown",
      "source": [],
      "metadata": {
        "id": "ZVS_2N70NPqO"
      }
    },
    {
      "cell_type": "code",
      "source": [
        "# Student data\n",
        "students_data = [\n",
        "    {\"Name\": \"Ali Ahmed\", \"ID\": \"S001\", \"Contact\": \"03001234567\", \"Class\": \"10th\"},\n",
        "    {\"Name\": \"Sara Khan\", \"ID\": \"S002\", \"Contact\": \"03019876543\", \"Class\": \"9th\"},\n",
        "    {\"Name\": \"Zara Aslam\", \"ID\": \"S003\", \"Contact\": \"03012345678\", \"Class\": \"11th\"},\n",
        "    {\"Name\": \"Hassan Raza\", \"ID\": \"S004\", \"Contact\": \"03011223344\", \"Class\": \"10th\"},\n",
        "    {\"Name\": \"Aisha Malik\", \"ID\": \"S005\", \"Contact\": \"03012233445\", \"Class\": \"8th\"},\n",
        "    {\"Name\": \"Usman Tariq\", \"ID\": \"S006\", \"Contact\": \"03014325432\", \"Class\": \"12th\"},\n",
        "    {\"Name\": \"Fatima Noor\", \"ID\": \"S007\", \"Contact\": \"03013355778\", \"Class\": \"9th\"},\n",
        "    {\"Name\": \"Bilal Zafar\", \"ID\": \"S008\", \"Contact\": \"03016789000\", \"Class\": \"11th\"},\n",
        "    {\"Name\": \"Mehwish Ali\", \"ID\": \"S009\", \"Contact\": \"03015566778\", \"Class\": \"10th\"},\n",
        "    {\"Name\": \"Ahmed Shaikh\", \"ID\": \"S010\", \"Contact\": \"03018899899\", \"Class\": \"8th\"},\n",
        "]"
      ],
      "metadata": {
        "id": "Lj2NEblKQzP4"
      },
      "execution_count": null,
      "outputs": []
    },
    {
      "cell_type": "code",
      "source": [
        "# Tool function\n",
        "def search_student(\n",
        "    query: str,\n",
        "    search_type: Literal[\"name\", \"id\"]\n",
        "):\n",
        "    \"\"\"Search for a student by name or ID.\n",
        "\n",
        "    Args:\n",
        "        query: The value to search for (name or ID).\n",
        "        search_type: The type of search, either 'name' or 'id'.\n",
        "\n",
        "    Returns:\n",
        "        A dictionary with the student's details if found, or a 'not found' message.\n",
        "    \"\"\"\n",
        "    for student in students_data:\n",
        "        if search_type == \"name\" and student[\"Name\"].lower() == query.lower():\n",
        "            return student\n",
        "        if search_type == \"id\" and student[\"ID\"].lower() == query.lower():\n",
        "            return student\n",
        "    return {\"message\": f\"No student available with this {search_type}: {query}\"}"
      ],
      "metadata": {
        "id": "EH8nreAiQ0pS"
      },
      "execution_count": null,
      "outputs": []
    },
    {
      "cell_type": "code",
      "source": [
        "model = genai.GenerativeModel(model_name='gemini-1.5-flash',\n",
        "                              tools=[search_student])"
      ],
      "metadata": {
        "id": "oSiAQkYSQ7BT"
      },
      "execution_count": null,
      "outputs": []
    },
    {
      "cell_type": "code",
      "source": [
        "chat = model.start_chat(enable_automatic_function_calling=True)\n",
        "response = chat.send_message(\"Id S003 will not be participated in final function\")\n",
        "print(response.text)"
      ],
      "metadata": {
        "colab": {
          "base_uri": "https://localhost:8080/",
          "height": 72
        },
        "id": "_BjzCkIFR2j-",
        "outputId": "b1387f23-689c-46ac-f4e4-9136fb9c73d8"
      },
      "execution_count": null,
      "outputs": [
        {
          "output_type": "stream",
          "name": "stdout",
          "text": [
            "OK. I've noted that student with ID S003, Zara Aslam from 11th class, will not be participating in the final function.  Is there anything else I can help with?\n",
            "\n"
          ]
        }
      ]
    },
    {
      "cell_type": "markdown",
      "source": [
        "# **Now go ahead to another step**"
      ],
      "metadata": {
        "id": "267cfwRgUlyW"
      }
    },
    {
      "cell_type": "code",
      "source": [
        "def power_disco_ball(power: bool) -> bool:\n",
        "    \"\"\"Powers the spinning disco ball.\"\"\"\n",
        "    print(f\"Disco ball is {'spinning!' if power else 'stopped.'}\")\n",
        "    return True\n",
        "\n",
        "\n",
        "def start_music(energetic: bool, loud: bool, bpm: int) -> str:\n",
        "    \"\"\"Play some music matching the specified parameters.\n",
        "\n",
        "    Args:\n",
        "      energetic: Whether the music is energetic or not.\n",
        "      loud: Whether the music is loud or not.\n",
        "      bpm: The beats per minute of the music.\n",
        "\n",
        "    Returns: The name of the song being played.\n",
        "    \"\"\"\n",
        "    print(f\"Starting music! {energetic=} {loud=}, {bpm=}\")\n",
        "    return \"Never gonna give you up.\"\n",
        "\n",
        "\n",
        "def dim_lights(brightness: float) -> bool:\n",
        "    \"\"\"Dim the lights.\n",
        "\n",
        "    Args:\n",
        "      brightness: The brightness of the lights, 0.0 is off, 1.0 is full.\n",
        "    \"\"\"\n",
        "    print(f\"Lights are now set to {brightness:.0%}\")\n",
        "    return True"
      ],
      "metadata": {
        "id": "aBpMFv8cSfs4"
      },
      "execution_count": null,
      "outputs": []
    },
    {
      "cell_type": "code",
      "source": [
        "# Set the model up with tools.\n",
        "house_fns = [power_disco_ball, start_music, dim_lights]\n",
        "\n",
        "model = genai.GenerativeModel(model_name=\"gemini-1.5-flash\", tools=house_fns)\n",
        "\n",
        "# Call the API.\n",
        "chat = model.start_chat()\n",
        "response = chat.send_message(\"Turn this place into a party!\")\n",
        "\n",
        "# Print out each of the function calls requested from this single call.\n",
        "for part in response.parts:\n",
        "    if fn := part.function_call:\n",
        "        args = \", \".join(f\"{key}={val}\" for key, val in fn.args.items())\n",
        "        print(f\"{fn.name}({args})\")"
      ],
      "metadata": {
        "colab": {
          "base_uri": "https://localhost:8080/",
          "height": 69
        },
        "id": "r9qN4QkpWdUk",
        "outputId": "032a5b61-8eb3-40e5-a2e9-2bcef592ffee"
      },
      "execution_count": null,
      "outputs": [
        {
          "output_type": "stream",
          "name": "stdout",
          "text": [
            "power_disco_ball(power=True)\n",
            "start_music(loud=True, energetic=True, bpm=120.0)\n",
            "dim_lights(brightness=0.5)\n"
          ]
        }
      ]
    },
    {
      "cell_type": "code",
      "source": [
        "# Simulate the responses from the specified tools.\n",
        "responses = {\n",
        "    \"power_disco_ball\": True,\n",
        "    \"start_music\": \"Never gonna give you up.\",\n",
        "    \"dim_lights\": True,\n",
        "}\n",
        "\n",
        "# Build the response parts.\n",
        "response_parts = [\n",
        "    genai.protos.Part(function_response=genai.protos.FunctionResponse(name=fn, response={\"result\": val}))\n",
        "    for fn, val in responses.items()\n",
        "]\n",
        "\n",
        "response = chat.send_message(response_parts)\n",
        "print(response.text)"
      ],
      "metadata": {
        "colab": {
          "base_uri": "https://localhost:8080/",
          "height": 72
        },
        "id": "oQPoogaQZJt1",
        "outputId": "cf010a2a-10ce-4d40-98d7-a7169e1817bf"
      },
      "execution_count": null,
      "outputs": [
        {
          "output_type": "stream",
          "name": "stdout",
          "text": [
            "Ok, I've turned on the disco ball, started playing some energetic music at 120 bpm, and dimmed the lights to 50% brightness.  Let's get this party started!\n",
            "\n"
          ]
        }
      ]
    }
  ]
}